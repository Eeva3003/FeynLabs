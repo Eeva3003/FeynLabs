{
 "cells": [
  {
   "cell_type": "code",
   "execution_count": 1,
   "id": "2fbae72b-d632-4901-8681-463a61d9d4ee",
   "metadata": {},
   "outputs": [],
   "source": [
    "import numpy as np\n"
   ]
  },
  {
   "cell_type": "code",
   "execution_count": 2,
   "id": "00f55649-7c4a-4ffc-b3e5-58cc698bb7e5",
   "metadata": {},
   "outputs": [
    {
     "data": {
      "text/plain": [
       "'1.26.4'"
      ]
     },
     "execution_count": 2,
     "metadata": {},
     "output_type": "execute_result"
    }
   ],
   "source": [
    "np.__version__"
   ]
  },
  {
   "cell_type": "code",
   "execution_count": 3,
   "id": "5b391d88-c6f7-446c-ab70-1a1593353dd8",
   "metadata": {},
   "outputs": [],
   "source": [
    "list_1=[1,2,3,4,5]"
   ]
  },
  {
   "cell_type": "code",
   "execution_count": null,
   "id": "30918612-ca9e-4aaa-a994-4012da92be05",
   "metadata": {},
   "outputs": [],
   "source": [
    "list_1.append"
   ]
  }
 ],
 "metadata": {
  "kernelspec": {
   "display_name": "Python 3 (ipykernel)",
   "language": "python",
   "name": "python3"
  },
  "language_info": {
   "codemirror_mode": {
    "name": "ipython",
    "version": 3
   },
   "file_extension": ".py",
   "mimetype": "text/x-python",
   "name": "python",
   "nbconvert_exporter": "python",
   "pygments_lexer": "ipython3",
   "version": "3.11.7"
  }
 },
 "nbformat": 4,
 "nbformat_minor": 5
}
